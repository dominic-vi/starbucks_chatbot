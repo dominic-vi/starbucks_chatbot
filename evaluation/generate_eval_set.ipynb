{
 "cells": [
  {
   "cell_type": "markdown",
   "metadata": {
    "id": "Y0c0XlwFFZQ0"
   },
   "source": [
    "## Import các thư viện cần thiết"
   ]
  },
  {
   "cell_type": "code",
   "execution_count": 2,
   "metadata": {
    "id": "b4lYX3YLp0_r"
   },
   "outputs": [],
   "source": [
    "from langchain_community.vectorstores import FAISS\n",
    "from langchain_huggingface.embeddings import HuggingFaceEmbeddings\n",
    "from langchain.retrievers import ContextualCompressionRetriever\n",
    "from langchain_community.cross_encoders.huggingface import HuggingFaceCrossEncoder\n",
    "from langchain.retrievers.document_compressors.cross_encoder_rerank import CrossEncoderReranker\n",
    "from langchain_ollama.chat_models import ChatOllama\n",
    "from langchain.prompts import PromptTemplate\n",
    "from langchain_core.output_parsers import StrOutputParser\n",
    "from langchain_core.runnables import RunnablePassthrough\n",
    "from datasets import Dataset\n",
    "import pandas as pd"
   ]
  },
  {
   "cell_type": "markdown",
   "metadata": {
    "id": "Tk9Dvem_FeUV"
   },
   "source": [
    "## Khởi chạy hệ thống RAG"
   ]
  },
  {
   "cell_type": "code",
   "execution_count": null,
   "metadata": {
    "id": "uE4W9HnLp0_w"
   },
   "outputs": [],
   "source": [
    "# Load mô hình LLM từ Ollama\n",
    "def load_llm(model_name: str):\n",
    "    LLM = ChatOllama(\n",
    "        model = model_name,\n",
    "        temperature = 0.1,\n",
    "        num_predict = 256\n",
    "    )\n",
    "    return LLM\n",
    "\n",
    "LLM = load_llm(\"vi-dominic/vinallama:7b\")\n",
    "\n",
    "\n",
    "\n",
    "# Tạo prompt cho mô hình LLM\n",
    "prompt_template = \"\"\"\n",
    "Bạn là một trợ lý AI hữu ích của một cửa hàng cà phê Starbucks. Dưới đây là một số thông tin từ tài liệu về Starbucks. Hãy sử dụng chúng để trả lời câu hỏi của khách hàng. Nếu bạn không biết câu trả lời, hãy nói không biết, đừng cố tạo ra câu trả lời. Hãy giữ câu trả lời ngắn gọn.\n",
    "Thông tin: {context}\n",
    "Câu hỏi: {question}\n",
    "Trả lời:\n",
    "\"\"\"\n",
    "\n",
    "def create_prompt(prompt_template):\n",
    "    prompt = PromptTemplate(template=prompt_template, input_variables=[\"context\",\"question\"])\n",
    "    return prompt\n",
    "\n",
    "prompt = create_prompt(prompt_template=prompt_template)\n",
    "\n",
    "\n",
    "\n",
    "# Kết nối với Vector Store\n",
    "vector_db_path = r\"vectorstore\\faiss_db\"\n",
    "\n",
    "def load_vectorstore(model_name: str):\n",
    "    embedding_model = HuggingFaceEmbeddings(model_name=model_name)\n",
    "    vector_db = FAISS.load_local(folder_path=vector_db_path, embeddings=embedding_model, allow_dangerous_deserialization=True)\n",
    "    return vector_db\n",
    "\n",
    "\n",
    "vectorstore = load_vectorstore(model_name=\"hiieu/halong_embedding\")\n",
    "\n",
    "retriever = vectorstore.as_retriever()\n",
    "\n",
    "cross_encoder_model = HuggingFaceCrossEncoder(model_name=\"namdp-ptit/ViRanker\")\n",
    "compressor = CrossEncoderReranker(model=cross_encoder_model, top_n=3)\n",
    "compressor_retriever = ContextualCompressionRetriever(base_compressor=compressor, base_retriever=retriever)\n",
    "\n",
    "\n",
    "# Khai báo RAG Chain\n",
    "def format_docs(documents):\n",
    "    return \"\\n\\n\".join(document.page_content for document in documents)\n",
    "\n",
    "rag_chain = (\n",
    "    {\"context\": compressor_retriever | format_docs, \"question\": RunnablePassthrough()}\n",
    "    | prompt\n",
    "    | LLM\n",
    "    | StrOutputParser()\n",
    ")"
   ]
  },
  {
   "cell_type": "markdown",
   "metadata": {
    "id": "Rq7oeN0XFvUr"
   },
   "source": [
    "## Load tập evaluation [ \"câu hỏi\" , \"sự thật nền tảng\" ]"
   ]
  },
  {
   "cell_type": "code",
   "execution_count": 5,
   "metadata": {
    "id": "wMAoS_JHp0_y",
    "outputId": "cf9dc665-a4c3-486a-99bd-2679ba0b17e6"
   },
   "outputs": [
    {
     "data": {
      "text/html": [
       "<div>\n",
       "<style scoped>\n",
       "    .dataframe tbody tr th:only-of-type {\n",
       "        vertical-align: middle;\n",
       "    }\n",
       "\n",
       "    .dataframe tbody tr th {\n",
       "        vertical-align: top;\n",
       "    }\n",
       "\n",
       "    .dataframe thead th {\n",
       "        text-align: right;\n",
       "    }\n",
       "</style>\n",
       "<table border=\"1\" class=\"dataframe\">\n",
       "  <thead>\n",
       "    <tr style=\"text-align: right;\">\n",
       "      <th></th>\n",
       "      <th>question</th>\n",
       "      <th>answer</th>\n",
       "      <th>context</th>\n",
       "      <th>ground truth</th>\n",
       "    </tr>\n",
       "  </thead>\n",
       "  <tbody>\n",
       "    <tr>\n",
       "      <th>0</th>\n",
       "      <td>Gói FlavorLock™ là gì?</td>\n",
       "      <td>NaN</td>\n",
       "      <td>NaN</td>\n",
       "      <td>Công nghệ FlavorLock™ độc đáo của chúng tôi sử...</td>\n",
       "    </tr>\n",
       "    <tr>\n",
       "      <th>1</th>\n",
       "      <td>Tôi nên sử dụng loại cà phê xay nào?</td>\n",
       "      <td>NaN</td>\n",
       "      <td>NaN</td>\n",
       "      <td>Để có được loại cà phê có hương vị thơm ngon n...</td>\n",
       "    </tr>\n",
       "    <tr>\n",
       "      <th>2</th>\n",
       "      <td>Cách bảo quản cà phê tốt nhất là gì?</td>\n",
       "      <td>NaN</td>\n",
       "      <td>NaN</td>\n",
       "      <td>Khi được rang, cà phê bắt đầu mất mùi khi tiếp...</td>\n",
       "    </tr>\n",
       "    <tr>\n",
       "      <th>3</th>\n",
       "      <td>Cà phê sẽ tươi trong bao lâu?</td>\n",
       "      <td>NaN</td>\n",
       "      <td>NaN</td>\n",
       "      <td>Cà phê đựng trong túi FlavorLock™ chưa mở sẽ t...</td>\n",
       "    </tr>\n",
       "    <tr>\n",
       "      <th>4</th>\n",
       "      <td>Thẻ Starbucks là gì?</td>\n",
       "      <td>NaN</td>\n",
       "      <td>NaN</td>\n",
       "      <td>Thẻ Starbucks là một thẻ vật lý mang thương hi...</td>\n",
       "    </tr>\n",
       "    <tr>\n",
       "      <th>5</th>\n",
       "      <td>Tôi có thể nhận Thẻ Starbucks ở đâu?</td>\n",
       "      <td>NaN</td>\n",
       "      <td>NaN</td>\n",
       "      <td>Thẻ Starbucks có sẵn tại tất cả cửa hàng Starb...</td>\n",
       "    </tr>\n",
       "    <tr>\n",
       "      <th>6</th>\n",
       "      <td>Làm thế nào để tôi kích hoạt Thẻ Starbucks?</td>\n",
       "      <td>NaN</td>\n",
       "      <td>NaN</td>\n",
       "      <td>Thẻ Starbucks phải được kích hoạt với giá trị ...</td>\n",
       "    </tr>\n",
       "    <tr>\n",
       "      <th>7</th>\n",
       "      <td>Tôi có thể sử dụng Thẻ Starbucks của mình ở đâu?</td>\n",
       "      <td>NaN</td>\n",
       "      <td>NaN</td>\n",
       "      <td>Thẻ Starbucks được chấp nhận tại tất cả cửa hà...</td>\n",
       "    </tr>\n",
       "    <tr>\n",
       "      <th>8</th>\n",
       "      <td>Tôi có thể sử dụng Thẻ Starbucks của mình khi ...</td>\n",
       "      <td>NaN</td>\n",
       "      <td>NaN</td>\n",
       "      <td>Thẻ Starbucks được kích hoạt tại Việt Nam chỉ ...</td>\n",
       "    </tr>\n",
       "    <tr>\n",
       "      <th>9</th>\n",
       "      <td>Làm thế nào để tôi đăng ký Thẻ Starbucks?</td>\n",
       "      <td>NaN</td>\n",
       "      <td>NaN</td>\n",
       "      <td>Bạn có thể đăng ký Thẻ Starbucks một cách dễ d...</td>\n",
       "    </tr>\n",
       "  </tbody>\n",
       "</table>\n",
       "</div>"
      ],
      "text/plain": [
       "                                            question  answer  context  \\\n",
       "0                             Gói FlavorLock™ là gì?     NaN      NaN   \n",
       "1               Tôi nên sử dụng loại cà phê xay nào?     NaN      NaN   \n",
       "2              Cách bảo quản cà phê tốt nhất là gì?      NaN      NaN   \n",
       "3                      Cà phê sẽ tươi trong bao lâu?     NaN      NaN   \n",
       "4                               Thẻ Starbucks là gì?     NaN      NaN   \n",
       "5               Tôi có thể nhận Thẻ Starbucks ở đâu?     NaN      NaN   \n",
       "6        Làm thế nào để tôi kích hoạt Thẻ Starbucks?     NaN      NaN   \n",
       "7   Tôi có thể sử dụng Thẻ Starbucks của mình ở đâu?     NaN      NaN   \n",
       "8  Tôi có thể sử dụng Thẻ Starbucks của mình khi ...     NaN      NaN   \n",
       "9          Làm thế nào để tôi đăng ký Thẻ Starbucks?     NaN      NaN   \n",
       "\n",
       "                                        ground truth  \n",
       "0  Công nghệ FlavorLock™ độc đáo của chúng tôi sử...  \n",
       "1  Để có được loại cà phê có hương vị thơm ngon n...  \n",
       "2  Khi được rang, cà phê bắt đầu mất mùi khi tiếp...  \n",
       "3  Cà phê đựng trong túi FlavorLock™ chưa mở sẽ t...  \n",
       "4  Thẻ Starbucks là một thẻ vật lý mang thương hi...  \n",
       "5  Thẻ Starbucks có sẵn tại tất cả cửa hàng Starb...  \n",
       "6  Thẻ Starbucks phải được kích hoạt với giá trị ...  \n",
       "7  Thẻ Starbucks được chấp nhận tại tất cả cửa hà...  \n",
       "8  Thẻ Starbucks được kích hoạt tại Việt Nam chỉ ...  \n",
       "9  Bạn có thể đăng ký Thẻ Starbucks một cách dễ d...  "
      ]
     },
     "execution_count": 5,
     "metadata": {},
     "output_type": "execute_result"
    }
   ],
   "source": [
    "df = pd.read_excel(r\"./eval_vinallama.xlsx\")\n",
    "df.head(10)"
   ]
  },
  {
   "cell_type": "code",
   "execution_count": 6,
   "metadata": {
    "id": "LpgY_nTKp0_z"
   },
   "outputs": [],
   "source": [
    "# Biến đổi câu hỏi và sự thật nền tảng thành các mảng\n",
    "questions = df[\"question\"].to_list()\n",
    "ground_truth = df[\"ground truth\"].to_list()"
   ]
  },
  {
   "cell_type": "code",
   "execution_count": 7,
   "metadata": {
    "colab": {
     "base_uri": "https://localhost:8080/",
     "height": 141
    },
    "executionInfo": {
     "elapsed": 354,
     "status": "error",
     "timestamp": 1732601978616,
     "user": {
      "displayName": "Nguyen Xuan Vi",
      "userId": "14107367438162886201"
     },
     "user_tz": -420
    },
    "id": "POfsNs5Kp0_0",
    "outputId": "a3dd78b6-80f9-496a-e058-aa9f6110501e"
   },
   "outputs": [
    {
     "data": {
      "text/plain": [
       "['Gói FlavorLock™ là gì?',\n",
       " 'Tôi nên sử dụng loại cà phê xay nào?',\n",
       " 'Cách bảo quản cà phê tốt nhất là gì? ',\n",
       " 'Cà phê sẽ tươi trong bao lâu?',\n",
       " 'Thẻ Starbucks là gì?',\n",
       " 'Tôi có thể nhận Thẻ Starbucks ở đâu?',\n",
       " 'Làm thế nào để tôi kích hoạt Thẻ Starbucks?',\n",
       " 'Tôi có thể sử dụng Thẻ Starbucks của mình ở đâu?',\n",
       " 'Tôi có thể sử dụng Thẻ Starbucks của mình khi tôi đi du lịch ở nước ngoài được không?',\n",
       " 'Làm thế nào để tôi đăng ký Thẻ Starbucks?']"
      ]
     },
     "execution_count": 7,
     "metadata": {},
     "output_type": "execute_result"
    }
   ],
   "source": [
    "# Các câu hỏi\n",
    "questions[:10]"
   ]
  },
  {
   "cell_type": "code",
   "execution_count": 8,
   "metadata": {
    "id": "-g0QRxxdp0_0",
    "outputId": "92ff7ad2-bb13-4168-f8e3-89d6215aeff0"
   },
   "outputs": [
    {
     "data": {
      "text/plain": [
       "['Công nghệ FlavorLock™ độc đáo của chúng tôi sử dụng loại van một chiều đặc biệt cho phép carbon dioxide từ các hạt cà phê rang tươi giải phóng khỏi gói cà phê đã dán kín mà không cho khí ôxy làm nhạt hương vị lọt vào. Tất cả các loại cà phê Starbucks được bán trong gói nửa pound (225g) và một pound (450g) được dán kín trong các gói FlavorLock™ kín khí trong 2 giờ kể từ khi rang, nhờ đó nó giữ được mùi vị thơm ngon cho đến khi bạn sẵn sàng sử dụng.',\n",
       " 'Để có được loại cà phê có hương vị thơm ngon nhất, chúng tôi tiếp tục khuyên bạn nên bắt đầu với cà phê nguyên hạt và xay mới cho từng ấm. Hoặc nếu thích, bạn có thể đem cà phê nguyên hạt tới cửa hàng bán lẻ tại địa phương và nhờ họ xay cho bạn.',\n",
       " 'Khi được rang, cà phê bắt đầu mất mùi khi tiếp xúc với không khí và độ ẩm lâu hơn. Chúng tôi khuyên bạn nên mua cà phê hàng tuần, bảo quản trong thùng chứa kín ở nơi mát mẻ, ít ánh sáng và chỉ xay cà phê trước khi pha. ',\n",
       " 'Cà phê đựng trong túi FlavorLock™ chưa mở sẽ tươi trong vài tháng.',\n",
       " 'Thẻ Starbucks là một thẻ vật lý mang thương hiệu Starbucks có thể tái sử dụng nhiều lần bằng cách khách hàng có thể nạp tiền vào thẻ để sử dụng mua hàng tại các cửa hàng Starbucks.',\n",
       " 'Thẻ Starbucks có sẵn tại tất cả cửa hàng Starbucks trên khắp Việt Nam.',\n",
       " 'Thẻ Starbucks phải được kích hoạt với giá trị tối thiểu là 100.000 VNĐ ở lần sử dụng đầu tiên tại bất kỳ thời điểm nào.',\n",
       " 'Thẻ Starbucks được chấp nhận tại tất cả cửa hàng Starbucks trên khắp Việt Nam.',\n",
       " 'Thẻ Starbucks được kích hoạt tại Việt Nam chỉ được sử dụng để tích lũy Điểm Ngôi Sao hoặc nhận các ưu đãi tại các cửa hàng Starbucks Việt Nam.',\n",
       " 'Bạn có thể đăng ký Thẻ Starbucks một cách dễ dàng và chỉ mất một vài phút thông qua ứng dụng di động hoặc tại website https://card.starbucks.vn. Ngoài các thông tin cá nhân cần thiết, bạn vui lòng điền số thẻ gồm 16 chữ số ở mặt trước và Mã Bảo Mật (CSC) là một số gồm 8 chữ số nằm dưới lớp tráng bạc ở mặt sau của thẻ để hoàn tất việc đăng ký Thẻ Starbucks của mình.']"
      ]
     },
     "execution_count": 8,
     "metadata": {},
     "output_type": "execute_result"
    }
   ],
   "source": [
    "# Các sự thật nền tảng\n",
    "ground_truth[:10]"
   ]
  },
  {
   "cell_type": "markdown",
   "metadata": {
    "id": "QjCMurJTHrFB"
   },
   "source": [
    "## Sử dụng RAG Chain để trả lời các câu hỏi trong tập evaluation"
   ]
  },
  {
   "cell_type": "code",
   "execution_count": null,
   "metadata": {
    "id": "4dtWb0ssp0_1"
   },
   "outputs": [],
   "source": [
    "data  = {\"question\": [], \"answer\": [], \"contexts\": [], \"ground_truth\": ground_truth}\n",
    "\n",
    "# Trả lời tất cả câu hỏi và lưu lại câu trả lời, ngữ cảnh\n",
    "for query in questions:\n",
    "    data[\"question\"].append(query)\n",
    "    data[\"answer\"].append(rag_chain.invoke(query))\n",
    "    data[\"contexts\"].append([doc.page_content for doc in compressor_retriever.invoke(query)])\n",
    "\n",
    "eval_dataset = Dataset.from_dict(data)"
   ]
  },
  {
   "cell_type": "code",
   "execution_count": null,
   "metadata": {
    "id": "uaSKdRk9p0_2"
   },
   "outputs": [],
   "source": [
    "# Lưu tập đã trả lời thành một file csv\n",
    "csv_df = pd.DataFrame.from_dict(data)\n",
    "csv_df.to_csv(\"./eval_vinallama-7b.csv\", index=False)"
   ]
  },
  {
   "cell_type": "code",
   "execution_count": null,
   "metadata": {
    "id": "PVnEt2eup0_3",
    "outputId": "adb72bec-61de-4398-abfc-e4cf34d79b17"
   },
   "outputs": [
    {
     "data": {
      "text/html": [
       "<div>\n",
       "<style scoped>\n",
       "    .dataframe tbody tr th:only-of-type {\n",
       "        vertical-align: middle;\n",
       "    }\n",
       "\n",
       "    .dataframe tbody tr th {\n",
       "        vertical-align: top;\n",
       "    }\n",
       "\n",
       "    .dataframe thead th {\n",
       "        text-align: right;\n",
       "    }\n",
       "</style>\n",
       "<table border=\"1\" class=\"dataframe\">\n",
       "  <thead>\n",
       "    <tr style=\"text-align: right;\">\n",
       "      <th></th>\n",
       "      <th>question</th>\n",
       "      <th>answer</th>\n",
       "      <th>contexts</th>\n",
       "      <th>ground_truth</th>\n",
       "    </tr>\n",
       "  </thead>\n",
       "  <tbody>\n",
       "    <tr>\n",
       "      <th>0</th>\n",
       "      <td>Gói FlavorLock™ là gì?</td>\n",
       "      <td>Gói FlavorLock™ là một gói kín khí được sử dụn...</td>\n",
       "      <td>['Gói FlavorLock™ là gì?\\nCông nghệ FlavorLock...</td>\n",
       "      <td>Công nghệ FlavorLock™ độc đáo của chúng tôi sử...</td>\n",
       "    </tr>\n",
       "    <tr>\n",
       "      <th>1</th>\n",
       "      <td>Tôi nên sử dụng loại cà phê xay nào?</td>\n",
       "      <td>Bắt đầu với cà phê nguyên hạt và xay mới cho m...</td>\n",
       "      <td>['Tôi nên sử dụng loại cà phê xay nào?\\nĐể có ...</td>\n",
       "      <td>Để có được loại cà phê có hương vị thơm ngon n...</td>\n",
       "    </tr>\n",
       "    <tr>\n",
       "      <th>2</th>\n",
       "      <td>Cách bảo quản cà phê tốt nhất là gì?</td>\n",
       "      <td>Mua cà phê hàng tuần, bảo quản trong thùng chứ...</td>\n",
       "      <td>['Câu hỏi thường gặp về Chuẩn bị Cà phê\\nCách ...</td>\n",
       "      <td>Khi được rang, cà phê bắt đầu mất mùi khi tiếp...</td>\n",
       "    </tr>\n",
       "    <tr>\n",
       "      <th>3</th>\n",
       "      <td>Cà phê sẽ tươi trong bao lâu?</td>\n",
       "      <td>Cà phê đựng trong túi FlavorLock™ chưa mở sẽ t...</td>\n",
       "      <td>['Câu hỏi thường gặp về Chuẩn bị Cà phê\\nCách ...</td>\n",
       "      <td>Cà phê đựng trong túi FlavorLock™ chưa mở sẽ t...</td>\n",
       "    </tr>\n",
       "    <tr>\n",
       "      <th>4</th>\n",
       "      <td>Thẻ Starbucks là gì?</td>\n",
       "      <td>Thẻ Starbucks là một thẻ nhựa vật lý mang thươ...</td>\n",
       "      <td>['Thẻ Starbucks là một thẻ nhựa vật lý mang th...</td>\n",
       "      <td>Thẻ Starbucks là một thẻ vật lý mang thương hi...</td>\n",
       "    </tr>\n",
       "    <tr>\n",
       "      <th>5</th>\n",
       "      <td>Tôi có thể nhận Thẻ Starbucks ở đâu?</td>\n",
       "      <td>Thẻ Starbucks có sẵn tại tất cả cửa hàng Starb...</td>\n",
       "      <td>['Câu hỏi thường gặp chương trình Starbucks Re...</td>\n",
       "      <td>Thẻ Starbucks có sẵn tại tất cả cửa hàng Starb...</td>\n",
       "    </tr>\n",
       "    <tr>\n",
       "      <th>6</th>\n",
       "      <td>Làm thế nào để tôi kích hoạt Thẻ Starbucks?</td>\n",
       "      <td>Thẻ Starbucks phải được kích hoạt với giá trị ...</td>\n",
       "      <td>['Câu hỏi thường gặp chương trình Starbucks Re...</td>\n",
       "      <td>Thẻ Starbucks phải được kích hoạt với giá trị ...</td>\n",
       "    </tr>\n",
       "    <tr>\n",
       "      <th>7</th>\n",
       "      <td>Tôi có thể sử dụng Thẻ Starbucks của mình ở đâu?</td>\n",
       "      <td>Thẻ Starbucks được chấp nhận tại tất cả cửa hà...</td>\n",
       "      <td>['Thẻ Starbucks có sẵn tại tất cả cửa hàng Sta...</td>\n",
       "      <td>Thẻ Starbucks được chấp nhận tại tất cả cửa hà...</td>\n",
       "    </tr>\n",
       "    <tr>\n",
       "      <th>8</th>\n",
       "      <td>Tôi có thể sử dụng Thẻ Starbucks của mình khi ...</td>\n",
       "      <td>Thẻ Starbucks được kích hoạt tại Việt Nam chỉ ...</td>\n",
       "      <td>['Thẻ Starbucks có sẵn tại tất cả cửa hàng Sta...</td>\n",
       "      <td>Thẻ Starbucks được kích hoạt tại Việt Nam chỉ ...</td>\n",
       "    </tr>\n",
       "    <tr>\n",
       "      <th>9</th>\n",
       "      <td>Làm thế nào để tôi đăng ký Thẻ Starbucks?</td>\n",
       "      <td>Bạn có thể đăng ký Thẻ Starbucks một cách dễ d...</td>\n",
       "      <td>['Làm thế nào để tôi đăng ký Thẻ Starbucks?\\nB...</td>\n",
       "      <td>Bạn có thể đăng ký Thẻ Starbucks một cách dễ d...</td>\n",
       "    </tr>\n",
       "  </tbody>\n",
       "</table>\n",
       "</div>"
      ],
      "text/plain": [
       "                                            question  \\\n",
       "0                             Gói FlavorLock™ là gì?   \n",
       "1               Tôi nên sử dụng loại cà phê xay nào?   \n",
       "2              Cách bảo quản cà phê tốt nhất là gì?    \n",
       "3                      Cà phê sẽ tươi trong bao lâu?   \n",
       "4                               Thẻ Starbucks là gì?   \n",
       "5               Tôi có thể nhận Thẻ Starbucks ở đâu?   \n",
       "6        Làm thế nào để tôi kích hoạt Thẻ Starbucks?   \n",
       "7   Tôi có thể sử dụng Thẻ Starbucks của mình ở đâu?   \n",
       "8  Tôi có thể sử dụng Thẻ Starbucks của mình khi ...   \n",
       "9          Làm thế nào để tôi đăng ký Thẻ Starbucks?   \n",
       "\n",
       "                                              answer  \\\n",
       "0  Gói FlavorLock™ là một gói kín khí được sử dụn...   \n",
       "1  Bắt đầu với cà phê nguyên hạt và xay mới cho m...   \n",
       "2  Mua cà phê hàng tuần, bảo quản trong thùng chứ...   \n",
       "3  Cà phê đựng trong túi FlavorLock™ chưa mở sẽ t...   \n",
       "4  Thẻ Starbucks là một thẻ nhựa vật lý mang thươ...   \n",
       "5  Thẻ Starbucks có sẵn tại tất cả cửa hàng Starb...   \n",
       "6  Thẻ Starbucks phải được kích hoạt với giá trị ...   \n",
       "7  Thẻ Starbucks được chấp nhận tại tất cả cửa hà...   \n",
       "8  Thẻ Starbucks được kích hoạt tại Việt Nam chỉ ...   \n",
       "9  Bạn có thể đăng ký Thẻ Starbucks một cách dễ d...   \n",
       "\n",
       "                                            contexts  \\\n",
       "0  ['Gói FlavorLock™ là gì?\\nCông nghệ FlavorLock...   \n",
       "1  ['Tôi nên sử dụng loại cà phê xay nào?\\nĐể có ...   \n",
       "2  ['Câu hỏi thường gặp về Chuẩn bị Cà phê\\nCách ...   \n",
       "3  ['Câu hỏi thường gặp về Chuẩn bị Cà phê\\nCách ...   \n",
       "4  ['Thẻ Starbucks là một thẻ nhựa vật lý mang th...   \n",
       "5  ['Câu hỏi thường gặp chương trình Starbucks Re...   \n",
       "6  ['Câu hỏi thường gặp chương trình Starbucks Re...   \n",
       "7  ['Thẻ Starbucks có sẵn tại tất cả cửa hàng Sta...   \n",
       "8  ['Thẻ Starbucks có sẵn tại tất cả cửa hàng Sta...   \n",
       "9  ['Làm thế nào để tôi đăng ký Thẻ Starbucks?\\nB...   \n",
       "\n",
       "                                        ground_truth  \n",
       "0  Công nghệ FlavorLock™ độc đáo của chúng tôi sử...  \n",
       "1  Để có được loại cà phê có hương vị thơm ngon n...  \n",
       "2  Khi được rang, cà phê bắt đầu mất mùi khi tiếp...  \n",
       "3  Cà phê đựng trong túi FlavorLock™ chưa mở sẽ t...  \n",
       "4  Thẻ Starbucks là một thẻ vật lý mang thương hi...  \n",
       "5  Thẻ Starbucks có sẵn tại tất cả cửa hàng Starb...  \n",
       "6  Thẻ Starbucks phải được kích hoạt với giá trị ...  \n",
       "7  Thẻ Starbucks được chấp nhận tại tất cả cửa hà...  \n",
       "8  Thẻ Starbucks được kích hoạt tại Việt Nam chỉ ...  \n",
       "9  Bạn có thể đăng ký Thẻ Starbucks một cách dễ d...  "
      ]
     },
     "execution_count": 20,
     "metadata": {},
     "output_type": "execute_result"
    }
   ],
   "source": [
    "# Đọc file csv vừa được lưu\n",
    "result_csv = pd.read_csv(\"./eval_vinallama-7b.csv\")\n",
    "result_csv.head(10)"
   ]
  },
  {
   "cell_type": "code",
   "execution_count": null,
   "metadata": {
    "id": "-6Ckyhkip0_4"
   },
   "outputs": [],
   "source": []
  }
 ],
 "metadata": {
  "colab": {
   "provenance": []
  },
  "kernelspec": {
   "display_name": "llm_env",
   "language": "python",
   "name": "python3"
  },
  "language_info": {
   "codemirror_mode": {
    "name": "ipython",
    "version": 3
   },
   "file_extension": ".py",
   "mimetype": "text/x-python",
   "name": "python",
   "nbconvert_exporter": "python",
   "pygments_lexer": "ipython3",
   "version": "3.11.10"
  }
 },
 "nbformat": 4,
 "nbformat_minor": 0
}
